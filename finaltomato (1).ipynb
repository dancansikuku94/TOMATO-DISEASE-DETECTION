{
  "nbformat": 4,
  "nbformat_minor": 0,
  "metadata": {
    "colab": {
      "name": "finaltomato.ipynb",
      "provenance": [],
      "collapsed_sections": []
    },
    "kernelspec": {
      "name": "python3",
      "display_name": "Python 3"
    },
    "language_info": {
      "name": "python"
    },
    "accelerator": "GPU"
  },
  "cells": [
    {
      "cell_type": "code",
      "metadata": {
        "id": "jfIlE_kfEoUw"
      },
      "source": [
        "from google.colab import drive\n"
      ],
      "execution_count": null,
      "outputs": []
    },
    {
      "cell_type": "code",
      "metadata": {
        "id": "c0p0ajmfFAlP"
      },
      "source": [
        "import tensorflow as tf\n",
        "from tensorflow.keras.layers import Input, Lambda, Dense, Flatten\n",
        "from tensorflow.keras.models import Model\n",
        "from tensorflow.keras.applications.vgg19 import VGG19\n",
        "from tensorflow.keras.preprocessing import image\n",
        "from tensorflow.keras.preprocessing.image import ImageDataGenerator,load_img\n",
        "from keras.optimizers import RMSprop\n",
        "from tensorflow.keras.models import Sequential\n",
        "from tensorflow.keras.callbacks import EarlyStopping\n",
        "from tensorflow.keras.models import load_model\n",
        "import numpy as np\n",
        "import matplotlib.pyplot as plt\n",
        "from glob import glob\n"
      ],
      "execution_count": null,
      "outputs": []
    },
    {
      "cell_type": "code",
      "metadata": {
        "id": "dIFu4C8wFiIA"
      },
      "source": [
        "IMAGE_SIZE=[224,224]\n"
      ],
      "execution_count": null,
      "outputs": []
    },
    {
      "cell_type": "code",
      "metadata": {
        "id": "y-6zUCD8GSmx"
      },
      "source": [
        "train_path=\"/content/drive/MyDrive/TOMATOFOLDER/processed_data/train\"\n",
        "test_path=\"/content/drive/MyDrive/TOMATOFOLDER/processed_data/val\""
      ],
      "execution_count": null,
      "outputs": []
    },
    {
      "cell_type": "code",
      "metadata": {
        "colab": {
          "base_uri": "https://localhost:8080/"
        },
        "id": "X2dJysecGhUM",
        "outputId": "a9c8be0f-32c0-4115-cd51-e174e3521109"
      },
      "source": [
        "folders=glob(\"/content/drive/MyDrive/TOMATOFOLDER/processed_data/train/*\")\n",
        "folders"
      ],
      "execution_count": null,
      "outputs": [
        {
          "output_type": "execute_result",
          "data": {
            "text/plain": [
              "['/content/drive/MyDrive/TOMATOFOLDER/processed_data/train/Tomato___healthy',\n",
              " '/content/drive/MyDrive/TOMATOFOLDER/processed_data/train/Tomato___Target_Spot',\n",
              " '/content/drive/MyDrive/TOMATOFOLDER/processed_data/train/Tomato___Tomato_Yellow_Leaf_Curl_Virus',\n",
              " '/content/drive/MyDrive/TOMATOFOLDER/processed_data/train/Tomato___Spider_mites Two-spotted_spider_mite',\n",
              " '/content/drive/MyDrive/TOMATOFOLDER/processed_data/train/Tomato___Late_blight',\n",
              " '/content/drive/MyDrive/TOMATOFOLDER/processed_data/train/Tomato___Leaf_Mold',\n",
              " '/content/drive/MyDrive/TOMATOFOLDER/processed_data/train/Tomato___Early_blight',\n",
              " '/content/drive/MyDrive/TOMATOFOLDER/processed_data/train/Tomato___Tomato_mosaic_virus',\n",
              " '/content/drive/MyDrive/TOMATOFOLDER/processed_data/train/Tomato___Septoria_leaf_spot',\n",
              " '/content/drive/MyDrive/TOMATOFOLDER/processed_data/train/Tomato___Bacterial_spot']"
            ]
          },
          "metadata": {
            "tags": []
          },
          "execution_count": 6
        }
      ]
    },
    {
      "cell_type": "code",
      "metadata": {
        "colab": {
          "base_uri": "https://localhost:8080/"
        },
        "id": "TsoYYhUNGzs7",
        "outputId": "91e42431-973a-4e57-a6d4-fc9b2bec1c7d"
      },
      "source": [
        "len(folders)"
      ],
      "execution_count": null,
      "outputs": [
        {
          "output_type": "execute_result",
          "data": {
            "text/plain": [
              "10"
            ]
          },
          "metadata": {
            "tags": []
          },
          "execution_count": 7
        }
      ]
    },
    {
      "cell_type": "code",
      "metadata": {
        "colab": {
          "base_uri": "https://localhost:8080/"
        },
        "id": "b0nrdGaHEGUA",
        "outputId": "9616213e-88ac-4963-8f67-026d73a2b5ff"
      },
      "source": [
        "folder=glob(\"/content/drive/MyDrive/TOMATOFOLDER/processed_data/val/*\")\n",
        "folder"
      ],
      "execution_count": null,
      "outputs": [
        {
          "output_type": "execute_result",
          "data": {
            "text/plain": [
              "['/content/drive/MyDrive/TOMATOFOLDER/processed_data/val/Tomato___healthy',\n",
              " '/content/drive/MyDrive/TOMATOFOLDER/processed_data/val/Tomato___Target_Spot',\n",
              " '/content/drive/MyDrive/TOMATOFOLDER/processed_data/val/Tomato___Tomato_Yellow_Leaf_Curl_Virus',\n",
              " '/content/drive/MyDrive/TOMATOFOLDER/processed_data/val/Tomato___Spider_mites Two-spotted_spider_mite',\n",
              " '/content/drive/MyDrive/TOMATOFOLDER/processed_data/val/Tomato___Late_blight',\n",
              " '/content/drive/MyDrive/TOMATOFOLDER/processed_data/val/Tomato___Leaf_Mold',\n",
              " '/content/drive/MyDrive/TOMATOFOLDER/processed_data/val/Tomato___Early_blight',\n",
              " '/content/drive/MyDrive/TOMATOFOLDER/processed_data/val/Tomato___Tomato_mosaic_virus',\n",
              " '/content/drive/MyDrive/TOMATOFOLDER/processed_data/val/Tomato___Septoria_leaf_spot',\n",
              " '/content/drive/MyDrive/TOMATOFOLDER/processed_data/val/Tomato___Bacterial_spot']"
            ]
          },
          "metadata": {
            "tags": []
          },
          "execution_count": 8
        }
      ]
    },
    {
      "cell_type": "code",
      "metadata": {
        "colab": {
          "base_uri": "https://localhost:8080/"
        },
        "id": "h4u3aib0HDM7",
        "outputId": "766811cb-7112-4bca-c124-e265a01106f8"
      },
      "source": [
        "vgg19=VGG19(input_shape=IMAGE_SIZE+[3],weights='imagenet',include_top=False)"
      ],
      "execution_count": null,
      "outputs": [
        {
          "output_type": "stream",
          "text": [
            "Downloading data from https://storage.googleapis.com/tensorflow/keras-applications/vgg19/vgg19_weights_tf_dim_ordering_tf_kernels_notop.h5\n",
            "80142336/80134624 [==============================] - 1s 0us/step\n"
          ],
          "name": "stdout"
        }
      ]
    },
    {
      "cell_type": "code",
      "metadata": {
        "id": "5znJvd5eHgjV"
      },
      "source": [
        "for layer in vgg19.layers:\n",
        "  layer.trainable=False"
      ],
      "execution_count": null,
      "outputs": []
    },
    {
      "cell_type": "code",
      "metadata": {
        "id": "xJLvq7TuH3EA"
      },
      "source": [
        "# our layers - you can add more if you want\n",
        "x = Flatten()(vgg19.output)"
      ],
      "execution_count": null,
      "outputs": []
    },
    {
      "cell_type": "code",
      "metadata": {
        "id": "uklu6GPTms_D"
      },
      "source": [
        ""
      ],
      "execution_count": null,
      "outputs": []
    },
    {
      "cell_type": "code",
      "metadata": {
        "id": "0aNbtHpYI0FS"
      },
      "source": [
        "prediction = Dense(len(folders), activation='softmax')(x)\n",
        "\n",
        "# create a model object\n",
        "model = Model(inputs=vgg19.input, outputs=prediction)"
      ],
      "execution_count": null,
      "outputs": []
    },
    {
      "cell_type": "code",
      "metadata": {
        "colab": {
          "base_uri": "https://localhost:8080/"
        },
        "id": "D0W-1T17JAuo",
        "outputId": "5940460b-c92a-44d1-f3fe-6893d083b335"
      },
      "source": [
        "model.summary()"
      ],
      "execution_count": null,
      "outputs": [
        {
          "output_type": "stream",
          "text": [
            "Model: \"model\"\n",
            "_________________________________________________________________\n",
            "Layer (type)                 Output Shape              Param #   \n",
            "=================================================================\n",
            "input_1 (InputLayer)         [(None, 224, 224, 3)]     0         \n",
            "_________________________________________________________________\n",
            "block1_conv1 (Conv2D)        (None, 224, 224, 64)      1792      \n",
            "_________________________________________________________________\n",
            "block1_conv2 (Conv2D)        (None, 224, 224, 64)      36928     \n",
            "_________________________________________________________________\n",
            "block1_pool (MaxPooling2D)   (None, 112, 112, 64)      0         \n",
            "_________________________________________________________________\n",
            "block2_conv1 (Conv2D)        (None, 112, 112, 128)     73856     \n",
            "_________________________________________________________________\n",
            "block2_conv2 (Conv2D)        (None, 112, 112, 128)     147584    \n",
            "_________________________________________________________________\n",
            "block2_pool (MaxPooling2D)   (None, 56, 56, 128)       0         \n",
            "_________________________________________________________________\n",
            "block3_conv1 (Conv2D)        (None, 56, 56, 256)       295168    \n",
            "_________________________________________________________________\n",
            "block3_conv2 (Conv2D)        (None, 56, 56, 256)       590080    \n",
            "_________________________________________________________________\n",
            "block3_conv3 (Conv2D)        (None, 56, 56, 256)       590080    \n",
            "_________________________________________________________________\n",
            "block3_conv4 (Conv2D)        (None, 56, 56, 256)       590080    \n",
            "_________________________________________________________________\n",
            "block3_pool (MaxPooling2D)   (None, 28, 28, 256)       0         \n",
            "_________________________________________________________________\n",
            "block4_conv1 (Conv2D)        (None, 28, 28, 512)       1180160   \n",
            "_________________________________________________________________\n",
            "block4_conv2 (Conv2D)        (None, 28, 28, 512)       2359808   \n",
            "_________________________________________________________________\n",
            "block4_conv3 (Conv2D)        (None, 28, 28, 512)       2359808   \n",
            "_________________________________________________________________\n",
            "block4_conv4 (Conv2D)        (None, 28, 28, 512)       2359808   \n",
            "_________________________________________________________________\n",
            "block4_pool (MaxPooling2D)   (None, 14, 14, 512)       0         \n",
            "_________________________________________________________________\n",
            "block5_conv1 (Conv2D)        (None, 14, 14, 512)       2359808   \n",
            "_________________________________________________________________\n",
            "block5_conv2 (Conv2D)        (None, 14, 14, 512)       2359808   \n",
            "_________________________________________________________________\n",
            "block5_conv3 (Conv2D)        (None, 14, 14, 512)       2359808   \n",
            "_________________________________________________________________\n",
            "block5_conv4 (Conv2D)        (None, 14, 14, 512)       2359808   \n",
            "_________________________________________________________________\n",
            "block5_pool (MaxPooling2D)   (None, 7, 7, 512)         0         \n",
            "_________________________________________________________________\n",
            "flatten (Flatten)            (None, 25088)             0         \n",
            "_________________________________________________________________\n",
            "dense (Dense)                (None, 10)                250890    \n",
            "=================================================================\n",
            "Total params: 20,275,274\n",
            "Trainable params: 250,890\n",
            "Non-trainable params: 20,024,384\n",
            "_________________________________________________________________\n"
          ],
          "name": "stdout"
        }
      ]
    },
    {
      "cell_type": "code",
      "metadata": {
        "id": "C2GDk2haJECX"
      },
      "source": [
        "optimizer=RMSprop(0.001)\n",
        "model.compile(loss='categorical_crossentropy',optimizer=optimizer,metrics=['accuracy'])"
      ],
      "execution_count": null,
      "outputs": []
    },
    {
      "cell_type": "code",
      "metadata": {
        "colab": {
          "base_uri": "https://localhost:8080/"
        },
        "id": "ZockXYwFJvlx",
        "outputId": "6e04e53f-a0f1-4e98-fa7e-6bb18ac03bd1"
      },
      "source": [
        "#Data augmentation\n",
        "test_datagen=ImageDataGenerator(rescale=1./255)\n",
        "train_datagen=ImageDataGenerator(rescale=1./255,\n",
        "                                 shear_range=0.2,\n",
        "                                 zoom_range=0.2,\n",
        "                                 rotation_range=40,\n",
        "                                 horizontal_flip=True)\n",
        "training_set=train_datagen.flow_from_directory(\n",
        "    \"/content/drive/MyDrive/TOMATOFOLDER/processed_data/train\",\n",
        "    class_mode=\"categorical\",\n",
        "    target_size=IMAGE_SIZE,\n",
        "    batch_size=32\n",
        ")\n",
        "test_set=test_datagen.flow_from_directory(\n",
        "    \"/content/drive/MyDrive/TOMATOFOLDER/processed_data/val\",\n",
        "    class_mode='categorical',\n",
        "    target_size=IMAGE_SIZE,\n",
        "    batch_size=32\n",
        ")"
      ],
      "execution_count": null,
      "outputs": [
        {
          "output_type": "stream",
          "text": [
            "Found 11243 images belonging to 10 classes.\n",
            "Found 4825 images belonging to 10 classes.\n"
          ],
          "name": "stdout"
        }
      ]
    },
    {
      "cell_type": "code",
      "metadata": {
        "colab": {
          "base_uri": "https://localhost:8080/"
        },
        "id": "hlrb2FdPMkzu",
        "outputId": "ec53f28a-d70d-4d63-f634-e6db87fe8596"
      },
      "source": [
        "# fit the model\n",
        "es = EarlyStopping(patience=20, restore_best_weights=True)\n",
        "\n",
        "r = model.fit_generator(\n",
        "  training_set,\n",
        "  validation_data=test_set,\n",
        "  epochs=20,\n",
        "  steps_per_epoch=len(training_set),\n",
        "  validation_steps=len(test_set),\n",
        "  callbacks=es\n",
        ")"
      ],
      "execution_count": null,
      "outputs": [
        {
          "output_type": "stream",
          "text": [
            "/usr/local/lib/python3.7/dist-packages/tensorflow/python/keras/engine/training.py:1844: UserWarning: `Model.fit_generator` is deprecated and will be removed in a future version. Please use `Model.fit`, which supports generators.\n",
            "  warnings.warn('`Model.fit_generator` is deprecated and '\n"
          ],
          "name": "stderr"
        },
        {
          "output_type": "stream",
          "text": [
            "Epoch 1/20\n",
            "352/352 [==============================] - 171s 487ms/step - loss: 0.5819 - accuracy: 0.8585 - val_loss: 0.4861 - val_accuracy: 0.8947\n",
            "Epoch 2/20\n",
            "352/352 [==============================] - 172s 488ms/step - loss: 0.5522 - accuracy: 0.8604 - val_loss: 0.6990 - val_accuracy: 0.8524\n",
            "Epoch 3/20\n",
            "352/352 [==============================] - 172s 488ms/step - loss: 0.5318 - accuracy: 0.8694 - val_loss: 0.7796 - val_accuracy: 0.8257\n",
            "Epoch 4/20\n",
            "352/352 [==============================] - 173s 491ms/step - loss: 0.5067 - accuracy: 0.8778 - val_loss: 0.6497 - val_accuracy: 0.8512\n",
            "Epoch 5/20\n",
            "352/352 [==============================] - 172s 488ms/step - loss: 0.5266 - accuracy: 0.8762 - val_loss: 0.7800 - val_accuracy: 0.8415\n",
            "Epoch 6/20\n",
            "352/352 [==============================] - 171s 487ms/step - loss: 0.5100 - accuracy: 0.8727 - val_loss: 0.7825 - val_accuracy: 0.8421\n",
            "Epoch 7/20\n",
            "352/352 [==============================] - 172s 489ms/step - loss: 0.5187 - accuracy: 0.8765 - val_loss: 1.2133 - val_accuracy: 0.7807\n",
            "Epoch 8/20\n",
            "352/352 [==============================] - 172s 490ms/step - loss: 0.4823 - accuracy: 0.8837 - val_loss: 0.6563 - val_accuracy: 0.8663\n",
            "Epoch 9/20\n",
            "352/352 [==============================] - 173s 490ms/step - loss: 0.4717 - accuracy: 0.8853 - val_loss: 1.0601 - val_accuracy: 0.7996\n",
            "Epoch 10/20\n",
            "352/352 [==============================] - 172s 488ms/step - loss: 0.4743 - accuracy: 0.8861 - val_loss: 0.6599 - val_accuracy: 0.8560\n",
            "Epoch 11/20\n",
            "352/352 [==============================] - 172s 489ms/step - loss: 0.4956 - accuracy: 0.8880 - val_loss: 0.4394 - val_accuracy: 0.8978\n",
            "Epoch 12/20\n",
            "352/352 [==============================] - 172s 490ms/step - loss: 0.4686 - accuracy: 0.8889 - val_loss: 0.5056 - val_accuracy: 0.8964\n",
            "Epoch 13/20\n",
            "352/352 [==============================] - 171s 487ms/step - loss: 0.4129 - accuracy: 0.8980 - val_loss: 0.6076 - val_accuracy: 0.8719\n",
            "Epoch 14/20\n",
            "352/352 [==============================] - 172s 487ms/step - loss: 0.4440 - accuracy: 0.8918 - val_loss: 0.7852 - val_accuracy: 0.8580\n",
            "Epoch 15/20\n",
            "352/352 [==============================] - 172s 489ms/step - loss: 0.4169 - accuracy: 0.8995 - val_loss: 0.9186 - val_accuracy: 0.8296\n",
            "Epoch 16/20\n",
            "352/352 [==============================] - 171s 487ms/step - loss: 0.4195 - accuracy: 0.8988 - val_loss: 0.6034 - val_accuracy: 0.8794\n",
            "Epoch 17/20\n",
            "352/352 [==============================] - 170s 483ms/step - loss: 0.4229 - accuracy: 0.8992 - val_loss: 0.5111 - val_accuracy: 0.8895\n",
            "Epoch 18/20\n",
            "352/352 [==============================] - 171s 487ms/step - loss: 0.4088 - accuracy: 0.9039 - val_loss: 0.4998 - val_accuracy: 0.8958\n",
            "Epoch 19/20\n",
            "352/352 [==============================] - 171s 487ms/step - loss: 0.4249 - accuracy: 0.9013 - val_loss: 0.6830 - val_accuracy: 0.8634\n",
            "Epoch 20/20\n",
            "352/352 [==============================] - 171s 487ms/step - loss: 0.4168 - accuracy: 0.9029 - val_loss: 0.5750 - val_accuracy: 0.8858\n"
          ],
          "name": "stdout"
        }
      ]
    },
    {
      "cell_type": "code",
      "metadata": {
        "id": "Nn4HzQE6M4cM",
        "colab": {
          "base_uri": "https://localhost:8080/"
        },
        "outputId": "f82ef3b3-0854-4120-a065-81f4d216322d"
      },
      "source": [
        "valid_loss, valid_acc = model.evaluate_generator(test_set, steps=len(test_set))\n",
        "print(f\"Final validation accuracy: {valid_acc*100:.2f}%\")"
      ],
      "execution_count": null,
      "outputs": [
        {
          "output_type": "stream",
          "text": [
            "/usr/local/lib/python3.7/dist-packages/tensorflow/python/keras/engine/training.py:1877: UserWarning: `Model.evaluate_generator` is deprecated and will be removed in a future version. Please use `Model.evaluate`, which supports generators.\n",
            "  warnings.warn('`Model.evaluate_generator` is deprecated and '\n"
          ],
          "name": "stderr"
        },
        {
          "output_type": "stream",
          "text": [
            "Final validation accuracy: 88.58%\n"
          ],
          "name": "stdout"
        }
      ]
    },
    {
      "cell_type": "code",
      "metadata": {
        "id": "PRr1DCJcSOMb",
        "colab": {
          "base_uri": "https://localhost:8080/",
          "height": 530
        },
        "outputId": "824124af-e988-435d-fcf8-ca2b2ec98b49"
      },
      "source": [
        "# plot the loss\n",
        "plt.plot(r.history['loss'], label='train loss')\n",
        "plt.plot(r.history['val_loss'], label='val loss')\n",
        "plt.legend()\n",
        "plt.show()\n",
        "plt.savefig('LossVal_loss')\n",
        "\n",
        "# plot the accuracy\n",
        "plt.plot(r.history['accuracy'], label='train acc')\n",
        "plt.plot(r.history['val_accuracy'], label='val acc')\n",
        "plt.legend()\n",
        "plt.show()\n",
        "plt.savefig('Acc-Val_acc')"
      ],
      "execution_count": null,
      "outputs": [
        {
          "output_type": "display_data",
          "data": {
            "image/png": "[encoded data removed]",
            "text/plain": [
              "<Figure size 432x288 with 1 Axes>"
            ]
          },
          "metadata": {
            "tags": [],
            "needs_background": "light"
          }
        },
        {
          "output_type": "display_data",
          "data": {
            "image/png": "[encoded data removed]",
            "text/plain": [
              "<Figure size 432x288 with 1 Axes>"
            ]
          },
          "metadata": {
            "tags": [],
            "needs_background": "light"
          }
        },
        {
          "output_type": "display_data",
          "data": {
            "text/plain": [
              "<Figure size 432x288 with 0 Axes>"
            ]
          },
          "metadata": {
            "tags": []
          }
        }
      ]
    },
    {
      "cell_type": "code",
      "metadata": {
        "id": "x9hjYqgmWsyJ"
      },
      "source": [
        "y_pred = model.predict(test_set)"
      ],
      "execution_count": null,
      "outputs": []
    },
    {
      "cell_type": "code",
      "metadata": {
        "id": "C0T7168AW26E",
        "colab": {
          "base_uri": "https://localhost:8080/"
        },
        "outputId": "9f53e0d6-15dc-4a99-9735-173819463ecf"
      },
      "source": [
        "y_pred = np.argmax(y_pred, axis=1)\n",
        "y_pred"
      ],
      "execution_count": null,
      "outputs": [
        {
          "output_type": "execute_result",
          "data": {
            "text/plain": [
              "array([3, 9, 5, ..., 2, 2, 5])"
            ]
          },
          "metadata": {
            "tags": []
          },
          "execution_count": 21
        }
      ]
    },
    {
      "cell_type": "code",
      "metadata": {
        "id": "wQr02VxJt6Cs",
        "colab": {
          "base_uri": "https://localhost:8080/"
        },
        "outputId": "2be4a72b-9c4f-4337-ea8a-7e27d286266a"
      },
      "source": [
        "loss, accuracy = model.evaluate(test_set)"
      ],
      "execution_count": null,
      "outputs": [
        {
          "output_type": "stream",
          "text": [
            "151/151 [==============================] - 24s 160ms/step - loss: 0.5750 - accuracy: 0.8858\n"
          ],
          "name": "stdout"
        }
      ]
    },
    {
      "cell_type": "code",
      "metadata": {
        "id": "uY_05m1GAzrc",
        "colab": {
          "base_uri": "https://localhost:8080/"
        },
        "outputId": "f7fdb96f-8ad9-4262-bff2-0ddc28a17e16"
      },
      "source": [
        "#save the tflite model\n",
        "export_dir = 'Final_tommato2020/saved_model/'\n",
        "tf.saved_model.save(model, export_dir)"
      ],
      "execution_count": null,
      "outputs": [
        {
          "output_type": "stream",
          "text": [
            "INFO:tensorflow:Assets written to: Final_tommato2020/saved_model/assets\n"
          ],
          "name": "stdout"
        }
      ]
    },
    {
      "cell_type": "code",
      "metadata": {
        "id": "WSA_7N-lCGU-",
        "colab": {
          "base_uri": "https://localhost:8080/"
        },
        "outputId": "34866b1a-afe9-4ba3-c5c0-df358e409bc1"
      },
      "source": [
        "#optimize the model for inference\n",
        "mode = \"Storage\"\n",
        "\n",
        "if mode == 'Storage':\n",
        "  optimization = tf.lite.Optimize.OPTIMIZE_FOR_SIZE\n",
        "elif mode == 'Speed':\n",
        "  optimization = tf.lite.Optimize.OPTIMIZE_FOR_LATENCY\n",
        "else:\n",
        "  optimization = tf.lite.Optimize.DEFAULT\n",
        "  \n",
        "optimization"
      ],
      "execution_count": null,
      "outputs": [
        {
          "output_type": "execute_result",
          "data": {
            "text/plain": [
              "<Optimize.OPTIMIZE_FOR_SIZE: 'OPTIMIZE_FOR_SIZE'>"
            ]
          },
          "metadata": {
            "tags": []
          },
          "execution_count": 24
        }
      ]
    },
    {
      "cell_type": "code",
      "metadata": {
        "id": "QWiBb_N6Pya4"
      },
      "source": [
        "#convert the model\n",
        "converter = tf.lite.TFLiteConverter.from_saved_model(export_dir)\n",
        "converter.optimizations = [optimization]\n",
        "tflite_model = converter.convert()"
      ],
      "execution_count": null,
      "outputs": []
    },
    {
      "cell_type": "code",
      "metadata": {
        "id": "va7UpGQMP-MB"
      },
      "source": [
        "# Save the converted model tflite file\n",
        "tflite_model_file = 'Final_tommato_classifier_2021.tflite'\n",
        "\n",
        "with open(tflite_model_file, 'wb') as f:\n",
        "    f.write(tflite_model)\n",
        "\n"
      ],
      "execution_count": null,
      "outputs": []
    },
    {
      "cell_type": "code",
      "metadata": {
        "id": "uyGMnYt6UjTS"
      },
      "source": [
        "\n",
        "CLASS_NAMES = ['Tomato___healthy',\n",
        "'Tomato___Target_Spot',\n",
        "'Tomato___Tomato_Yellow_Leaf_Curl_Virus',\n",
        "'Tomato___Spider_mites Two-spotted_spider_mite',\n",
        "'Tomato___Late_blight',\n",
        "'Tomato___Leaf_Mold',\n",
        "'Tomato___Early_blight',\n",
        "'Tomato___Tomato_mosaic_virus',\n",
        "'Tomato___Septoria_leaf_spot',\n",
        "'Tomato___Bacterial_spot'\n",
        "]"
      ],
      "execution_count": null,
      "outputs": []
    },
    {
      "cell_type": "code",
      "metadata": {
        "id": "JnpGTfbiQUhy",
        "colab": {
          "base_uri": "https://localhost:8080/"
        },
        "outputId": "3c714884-41a6-4c29-ce9a-b3be55772657"
      },
      "source": [
        "\n",
        "\n",
        "with open('Final_tomato_2021_labels.txt', 'w') as f:\n",
        "  f.write('\\n'.join(CLASS_NAMES))\n",
        "  \n",
        "!ls"
      ],
      "execution_count": null,
      "outputs": [
        {
          "output_type": "stream",
          "text": [
            "Acc-Val_acc.png\t\t      Final_tommato2020\t\t\t    sample_data\n",
            "drive\t\t\t      Final_tommato_classifier_2021.tflite\n",
            "Final_tomato_2021_labels.txt  LossVal_loss.png\n"
          ],
          "name": "stdout"
        }
      ]
    },
    {
      "cell_type": "code",
      "metadata": {
        "id": "l-_IpYyunx8H"
      },
      "source": [
        "\n",
        "\n",
        "\"\"\"with open('Final_tomato_classifier_labels.txt', 'w') as f:\n",
        "  f.write('\\n'.join(CLASS_NAMES))\n",
        "\n",
        "!ls\"\"\""
      ],
      "execution_count": null,
      "outputs": []
    },
    {
      "cell_type": "code",
      "metadata": {
        "id": "blq0fI_zVokH"
      },
      "source": [
        ""
      ],
      "execution_count": null,
      "outputs": []
    }
  ]
}